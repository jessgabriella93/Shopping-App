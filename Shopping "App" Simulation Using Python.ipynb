{
 "cells": [
  {
   "cell_type": "code",
   "execution_count": 1,
   "id": "d2c9ae85-848f-4f0b-a7f0-3a347023a7fc",
   "metadata": {},
   "outputs": [
    {
     "name": "stdout",
     "output_type": "stream",
     "text": [
      "Welcome to the Demo Marketplace\n"
     ]
    }
   ],
   "source": [
    "print(\"Welcome to the Demo Marketplace\")"
   ]
  },
  {
   "cell_type": "code",
   "execution_count": 2,
   "id": "f9c89e2d-2f39-4485-9621-0b45f050436f",
   "metadata": {},
   "outputs": [],
   "source": [
    "user_db = {\n",
    "    \"user1\": \"user1password\",\n",
    "    \"user2\": \"user2password\",\n",
    "    \"user3\": \"user3password\"\n",
    "}\n",
    "\n",
    "admin_db = {\n",
    "    \"admin1\": \"admin1password\",\n",
    "    \"admin2\": \"admin2password\"\n",
    "}"
   ]
  },
  {
   "cell_type": "code",
   "execution_count": 3,
   "id": "39d035aa-9e2e-4a0d-81ac-ffedeed7886b",
   "metadata": {},
   "outputs": [],
   "source": [
    "def user_login():\n",
    "    username = input(\"Please enter your username: \")\n",
    "    password = input(\"Please enter your password: \")\n",
    "    \n",
    "    if username in user_db and user_db[username] == password:\n",
    "        print (\"Login successful as user\")\n",
    "    else:\n",
    "        print (\"Login failed\")\n",
    "    "
   ]
  },
  {
   "cell_type": "code",
   "execution_count": 4,
   "id": "27a64f6e-793d-44d6-b4c9-79f623f00c6a",
   "metadata": {},
   "outputs": [
    {
     "name": "stdin",
     "output_type": "stream",
     "text": [
      "Please enter your username:  user1\n",
      "Please enter your password:  user1password\n"
     ]
    },
    {
     "name": "stdout",
     "output_type": "stream",
     "text": [
      "Login successful as user\n"
     ]
    }
   ],
   "source": [
    "user_login()"
   ]
  },
  {
   "cell_type": "code",
   "execution_count": 37,
   "id": "6a10e4e6-98df-4f2f-b03c-1e9340d4f056",
   "metadata": {},
   "outputs": [],
   "source": [
    "def admin_login():\n",
    "    admin = input(\"Please enter admin username: \")\n",
    "    admin_password = input(\"Please enter admin password: \")\n",
    "\n",
    "    if admin in admin_db and admin_db[admin] == admin_password:\n",
    "        print(\"Login successful as admin\")\n",
    "    else:\n",
    "        print(\"Login failed\")\n",
    "    "
   ]
  },
  {
   "cell_type": "code",
   "execution_count": 39,
   "id": "28cba759-62c0-4633-bb63-429d4d7f4eda",
   "metadata": {},
   "outputs": [
    {
     "name": "stdin",
     "output_type": "stream",
     "text": [
      "Please enter admin username:  admin1\n",
      "Please enter admin password:  admin1password\n"
     ]
    },
    {
     "name": "stdout",
     "output_type": "stream",
     "text": [
      "Login successful as admin\n"
     ]
    }
   ],
   "source": [
    "admin_login()"
   ]
  },
  {
   "cell_type": "code",
   "execution_count": 7,
   "id": "aec12980-6dbf-47bb-8edf-9caec03cf214",
   "metadata": {},
   "outputs": [],
   "source": [
    "import random\n",
    "\n",
    "def generate_session_id():\n",
    "    return str(random.randint(1000, 9000))"
   ]
  },
  {
   "cell_type": "code",
   "execution_count": 8,
   "id": "8feb10ec-279d-44cd-91cb-3c9b78b8cc9a",
   "metadata": {},
   "outputs": [
    {
     "data": {
      "text/plain": [
       "'3091'"
      ]
     },
     "execution_count": 8,
     "metadata": {},
     "output_type": "execute_result"
    }
   ],
   "source": [
    "generate_session_id()"
   ]
  },
  {
   "cell_type": "code",
   "execution_count": 9,
   "id": "77af5a97-e01b-42b9-97ef-297684e0cb44",
   "metadata": {},
   "outputs": [],
   "source": [
    "def user_or_admin():\n",
    "    login = input(\"Log in a user or admin: \")\n",
    "    if login == \"user\":\n",
    "        return user_login()\n",
    "    elif login == \"admin\":\n",
    "        return admin_login()\n",
    "    else:\n",
    "        print(\"Invalid input.\")"
   ]
  },
  {
   "cell_type": "code",
   "execution_count": 10,
   "id": "cecbfcff-1af5-442d-bcd2-4fccd0269f4e",
   "metadata": {},
   "outputs": [
    {
     "name": "stdin",
     "output_type": "stream",
     "text": [
      "Log in a user or admin:  user\n",
      "Please enter your username:  user1\n",
      "Please enter your password:  user1password\n"
     ]
    },
    {
     "name": "stdout",
     "output_type": "stream",
     "text": [
      "Login successful as user\n"
     ]
    }
   ],
   "source": [
    "user_or_admin()"
   ]
  },
  {
   "cell_type": "code",
   "execution_count": 11,
   "id": "466d6776-4a17-47b0-907a-886680cd140a",
   "metadata": {},
   "outputs": [],
   "source": [
    "catalog = [\n",
    "    {\"product_id\": 1, \"name\": \"Knit Dress\", \"category\": \"Dress\", \"price\": 25},\n",
    "    {\"product_id\": 2, \"name\": \"White Shirt\", \"category\": \"Shirts\", \"price\": 5},\n",
    "    {\"product_id\": 3, \"name\": \"Brown Boots\", \"category\": \"Shoes\", \"price\": 60},\n",
    "    {\"product_id\": 4, \"name\": \"Black Skirt\", \"category\": \"Skirts\", \"price\": 10},\n",
    "    {\"product_id\": 5, \"name\": \"Black Shirt\", \"category\": \"Shirts\", \"price\": 5}\n",
    "]"
   ]
  },
  {
   "cell_type": "code",
   "execution_count": 111,
   "id": "8968e29e-b8cb-4e24-8fc4-e29102677f40",
   "metadata": {},
   "outputs": [],
   "source": [
    "def display_catalog():\n",
    "    login = input(\"Log in a user or admin: \")\n",
    "    if login == \"user\":\n",
    "        username = input(\"Please enter your username: \")\n",
    "        password = input(\"Please enter your password: \")\n",
    "\n",
    "        if username in user_db and user_db[username] == password: \n",
    "            print(f\"{'Product ID':<15} {'Product Name':<20} {'Category':<15} {'Price':<5}\")\n",
    "            print(\"--\" * 30)\n",
    "            for p in catalog:\n",
    "                print(f\"{p['product_id']:<15} {p['name']:<20} {p['category']:<15} ${p['price']:<5}\")\n",
    "        else: \n",
    "            print(\"No access.\")\n",
    "    elif login == \"admin\":\n",
    "        admin = input(\"Please enter admin username: \")\n",
    "        admin_password = input(\"Please enter admin password: \")\n",
    "        \n",
    "        if admin in admin_db and admin_db[admin] == admin_password:\n",
    "            print(f\"{'Product ID':<15} {'Product Name':<20} {'Category':<15} {'Price':<5}\")\n",
    "            print(\"--\" * 30)\n",
    "            for p in catalog:\n",
    "                print(f\"{p['product_id']:<15} {p['name']:<20} {p['category']:<15} ${p['price']:<5}\")\n",
    "        else: \n",
    "            print(\"No access.\")\n",
    "    else:\n",
    "        print(\"Invalid input. You are unable to display items in the catalog.\")"
   ]
  },
  {
   "cell_type": "code",
   "execution_count": 115,
   "id": "52463c5f-e604-4b78-a4f0-1172e1ee6485",
   "metadata": {},
   "outputs": [
    {
     "name": "stdin",
     "output_type": "stream",
     "text": [
      "Log in a user or admin:  user\n",
      "Please enter your username:  user1\n",
      "Please enter your password:  f\n"
     ]
    },
    {
     "name": "stdout",
     "output_type": "stream",
     "text": [
      "No access.\n"
     ]
    }
   ],
   "source": [
    "display_catalog()"
   ]
  },
  {
   "cell_type": "code",
   "execution_count": 14,
   "id": "146e6263-cd9d-4923-aba9-aff50e253d35",
   "metadata": {},
   "outputs": [],
   "source": [
    "cart = []"
   ]
  },
  {
   "cell_type": "code",
   "execution_count": 106,
   "id": "5283ac04-623f-4c26-aa99-d4b32d84b80a",
   "metadata": {},
   "outputs": [],
   "source": [
    "def display_cart(generate_session_id):\n",
    "    login = input(\"Log in a user or admin: \")\n",
    "    if login == \"user\":\n",
    "        username = input(\"Please enter your username: \")\n",
    "        password = input(\"Please enter your password: \")\n",
    "\n",
    "        if username in user_db and user_db[username] == password: \n",
    "            print(f\"{'Product Name':<20} {'Price':<10} {'Quantity':<5}\")\n",
    "            print(\"--\" * 22)\n",
    "            for i in cart:\n",
    "                if i[\"session_id\"] == generate_session_id:\n",
    "                    for p in catalog:\n",
    "                        if p[\"product_id\"] == i[\"product_id\"]:\n",
    "                            print(f\"{p['name']:<20} ${p['price']:<10} {i['quantity']:<5}\")\n",
    "        else:\n",
    "            print(\"No access.\")\n",
    "    elif login == \"admin\":\n",
    "        admin = input(\"Please enter admin username: \")\n",
    "        admin_password = input(\"Please enter admin password: \")\n",
    "        \n",
    "        if admin in admin_db and admin_db[admin] == admin_password:\n",
    "            print(f\"{'Product Name':<20} {'Price':<10} {'Quantity':<5}\")\n",
    "            print(\"--\" * 22)\n",
    "            for i in cart:\n",
    "                if i[\"session_id\"] == generate_session_id:\n",
    "                    for p in catalog:\n",
    "                        if p[\"product_id\"] == i[\"product_id\"]:\n",
    "                            print(f\"{p['name']:<20} ${p['price']:<10} {i['quantity']:<5}\")\n",
    "        else:\n",
    "            print(\"No access.\")\n",
    "                \n",
    "    else:\n",
    "        print(\"Invalid input. You are unable to display items in the cart.\")\n"
   ]
  },
  {
   "cell_type": "code",
   "execution_count": 116,
   "id": "1cba8b73-a608-4661-85d5-15707454b558",
   "metadata": {},
   "outputs": [],
   "source": [
    "def add_to_cart(generate_session_id, product_id, quantity):\n",
    "    login = input(\"Log in a user or admin: \")\n",
    "    if login == \"user\":\n",
    "        username = input(\"Please enter your username: \")\n",
    "        password = input(\"Please enter your password: \")\n",
    "\n",
    "        if username in user_db and user_db[username] == password: \n",
    "            cart.append({\n",
    "                \"session_id\": generate_session_id,\n",
    "                \"product_id\": product_id,\n",
    "                \"quantity\": quantity\n",
    "                })\n",
    "            print(\"Products have been added into the cart.\")\n",
    "        else:\n",
    "            print(\"No access.\")\n",
    "    elif login == \"admin\":\n",
    "        admin = input(\"Please enter admin username: \")\n",
    "        admin_password = input(\"Please enter admin password: \")\n",
    "        \n",
    "        if admin in admin_db and admin_db[admin] == admin_password:\n",
    "            cart.append({\n",
    "                \"session_id\": generate_session_id,\n",
    "                \"product_id\": product_id,\n",
    "                \"quantity\": quantity\n",
    "                })\n",
    "            print(\"Products have been added into the cart.\")\n",
    "        else:\n",
    "            print(\"No access.\")\n",
    "    else:\n",
    "        print(\"Invalid input. You are unable to add items into the cart.\")"
   ]
  },
  {
   "cell_type": "code",
   "execution_count": 117,
   "id": "5923036d-c207-40e2-8342-5f9f8b643e18",
   "metadata": {},
   "outputs": [
    {
     "name": "stdin",
     "output_type": "stream",
     "text": [
      "Log in a user or admin:  user\n",
      "Please enter your username:  user1\n",
      "Please enter your password:  user1password\n"
     ]
    },
    {
     "name": "stdout",
     "output_type": "stream",
     "text": [
      "Products have been added into the cart.\n"
     ]
    }
   ],
   "source": [
    "add_to_cart('3091', 2, 1)"
   ]
  },
  {
   "cell_type": "code",
   "execution_count": 107,
   "id": "817fa57b-bbd9-411f-9a2d-9e4dfb40154d",
   "metadata": {},
   "outputs": [
    {
     "name": "stdin",
     "output_type": "stream",
     "text": [
      "Log in a user or admin:  user\n",
      "Please enter your username:  user1\n",
      "Please enter your password:  user1password\n"
     ]
    },
    {
     "name": "stdout",
     "output_type": "stream",
     "text": [
      "Product Name         Price      Quantity\n",
      "--------------------------------------------\n",
      "White Shirt          $5          1    \n",
      "White Shirt          $5          1    \n"
     ]
    }
   ],
   "source": [
    "display_cart('3091')"
   ]
  },
  {
   "cell_type": "code",
   "execution_count": 118,
   "id": "105d1b62-7ca0-4139-8f3d-cde4f71ebc83",
   "metadata": {},
   "outputs": [],
   "source": [
    "def delete_from_cart(generate_session_id, product_id):\n",
    "    login = input(\"Log in a user or admin: \")\n",
    "    if login == \"user\":\n",
    "        print(\"You are not an admin. You are unable to delete items from the cart.\")\n",
    "    elif login == \"admin\":\n",
    "        admin = input(\"Please enter admin username: \")\n",
    "        admin_password = input(\"Please enter admin password: \")\n",
    "        \n",
    "        if admin in admin_db and admin_db[admin] == admin_password:\n",
    "            for i in cart:\n",
    "                if i[\"session_id\"] == generate_session_id and i[\"product_id\"] == product_id:\n",
    "                    cart.remove(i)\n",
    "                print(\"Items have been removed from the cart.\")\n",
    "        else:\n",
    "            print(\"No access.\")\n",
    "    else:\n",
    "        print(\"Invalid input. You are unable to delete items from the cart.\")"
   ]
  },
  {
   "cell_type": "code",
   "execution_count": 120,
   "id": "6e595af4-e0f1-4dbc-a8ed-62983d4ab8e1",
   "metadata": {},
   "outputs": [
    {
     "name": "stdin",
     "output_type": "stream",
     "text": [
      "Log in a user or admin:  admin\n",
      "Please enter admin username:  admin1\n",
      "Please enter admin password:  admin1password\n"
     ]
    },
    {
     "name": "stdout",
     "output_type": "stream",
     "text": [
      "Items have been removed from the cart.\n",
      "Items have been removed from the cart.\n",
      "Items have been removed from the cart.\n",
      "Items have been removed from the cart.\n"
     ]
    }
   ],
   "source": [
    "delete_from_cart('3091', 2)"
   ]
  },
  {
   "cell_type": "code",
   "execution_count": 21,
   "id": "692c0c1e-9845-4a7b-99ac-cdb61da0a0ec",
   "metadata": {},
   "outputs": [
    {
     "name": "stdout",
     "output_type": "stream",
     "text": [
      "Product Name         Price      Quantity\n",
      "--------------------------------------------\n"
     ]
    }
   ],
   "source": [
    "display_cart('5000')"
   ]
  },
  {
   "cell_type": "code",
   "execution_count": 121,
   "id": "c764a7d3-4261-4c66-9f9e-808ac6f0b3ff",
   "metadata": {},
   "outputs": [],
   "source": [
    "def user_interaction(generate_session_id):\n",
    "    print(\"V. View Cart\")\n",
    "    print(\"A. Add to Cart\")\n",
    "    print(\"D. Delete from Cart\")\n",
    "    print(\"L. Log Out\")\n",
    "\n",
    "    output = input(\"What would you like to do? (V,A,D,L)\")\n",
    "\n",
    "    if output == \"V\":\n",
    "        display_cart(generate_session_id)\n",
    "    elif output == \"A\":\n",
    "        product_id = int(input(\"Enter the product ID:\"))\n",
    "        quantity = int(input(\"Enter the quantity:\"))\n",
    "        add_to_cart(generate_session_id, product_id, quantity)\n",
    "    elif output == \"D\":\n",
    "        product_id = int(input(\"Enter the product ID:\"))\n",
    "        delete_from_cart(generate_session_id, product_id)\n",
    "    elif output == \"L\":\n",
    "        print(\"You are logged out.\")\n",
    "    else: \n",
    "        print(\"Invalid input.\")"
   ]
  },
  {
   "cell_type": "code",
   "execution_count": 129,
   "id": "2097043e-a15c-4c0d-83b7-ee0ed60cfef8",
   "metadata": {},
   "outputs": [
    {
     "name": "stdout",
     "output_type": "stream",
     "text": [
      "V. View Cart\n",
      "A. Add to Cart\n",
      "D. Delete from Cart\n",
      "L. Log Out\n"
     ]
    },
    {
     "name": "stdin",
     "output_type": "stream",
     "text": [
      "What would you like to do? (V,A,D,L) D\n",
      "Enter the product ID: 9\n",
      "Log in a user or admin:  admin\n",
      "Please enter admin username:  admin1\n",
      "Please enter admin password:  admin1password\n"
     ]
    },
    {
     "name": "stdout",
     "output_type": "stream",
     "text": [
      "Items have been removed from the cart.\n",
      "Items have been removed from the cart.\n",
      "Items have been removed from the cart.\n",
      "Items have been removed from the cart.\n",
      "Items have been removed from the cart.\n",
      "Items have been removed from the cart.\n"
     ]
    }
   ],
   "source": [
    "user_interaction('5000')"
   ]
  },
  {
   "cell_type": "code",
   "execution_count": 24,
   "id": "c35ef3a1-04b1-4cc9-b15c-d1ae232334a2",
   "metadata": {},
   "outputs": [],
   "source": [
    "def checkout():\n",
    "    print(\"\\nPlease select your preferred payment method:\")\n",
    "    print(\"1. Apple Pay\")\n",
    "    print(\"2. Credit Card\")\n",
    "    print(\"3. Debit Card\")\n",
    "    print(\"4. PayPal\")\n",
    "    \n",
    "    payment_method = input(\"Please enter your selection (1-4):\")\n",
    "    \n",
    "    if payment_method == \"1\":\n",
    "        print(\"You are redirected for payment.\")\n",
    "    elif payment_method == \"2\":\n",
    "        print(\"Your payment is successful.\")\n",
    "    elif payment_method == \"3\":\n",
    "        print(\"Your payment is successful.\")\n",
    "    elif payment_method == \"4\":\n",
    "        print(\"You are redirected for payment.\")\n",
    "    else:\n",
    "        print(\"Invalid input.\")"
   ]
  },
  {
   "cell_type": "code",
   "execution_count": 25,
   "id": "da03bf11-8165-4372-b02e-d0485c8f391e",
   "metadata": {},
   "outputs": [
    {
     "name": "stdout",
     "output_type": "stream",
     "text": [
      "\n",
      "Please select your preferred payment method:\n",
      "1. Apple Pay\n",
      "2. Credit Card\n",
      "3. Debit Card\n",
      "4. PayPal\n"
     ]
    },
    {
     "name": "stdin",
     "output_type": "stream",
     "text": [
      "Please enter your selection (1-4): 1\n"
     ]
    },
    {
     "name": "stdout",
     "output_type": "stream",
     "text": [
      "You are redirected for payment.\n"
     ]
    }
   ],
   "source": [
    "checkout()"
   ]
  },
  {
   "cell_type": "code",
   "execution_count": 26,
   "id": "b1b41e16-fe37-4d9f-a1ea-89b8b81fe2fe",
   "metadata": {},
   "outputs": [
    {
     "name": "stdin",
     "output_type": "stream",
     "text": [
      "Please enter admin username:  admin1\n",
      "Please enter admin password:  admin1password\n"
     ]
    },
    {
     "name": "stdout",
     "output_type": "stream",
     "text": [
      "Login successful as admin\n"
     ]
    }
   ],
   "source": [
    "admin_login()"
   ]
  },
  {
   "cell_type": "code",
   "execution_count": 27,
   "id": "293a671f-1bfd-4664-80c0-658f65df0206",
   "metadata": {},
   "outputs": [],
   "source": [
    "def add_product():\n",
    "        product_id = int(input(\"Enter the Product ID:\"))\n",
    "        name = input(\"Enter the Product Name:\")\n",
    "        category = input(\"Enter the category:\")\n",
    "        price = float(input(\"Enter the price:\"))\n",
    "    \n",
    "        new_product = {\n",
    "            \"product_id\": product_id,\n",
    "            \"name\": name,\n",
    "            \"category\": category,\n",
    "            \"price\": price\n",
    "        }\n",
    "        catalog.append(new_product)\n",
    "\n",
    "def update_product():\n",
    "    product_id = int(input(\"Enter the Product ID to update:\"))\n",
    "    for p in catalog:\n",
    "        if p[\"product_id\"] == product_id:\n",
    "            new_name = input(\"Enter the new Product Name:\")\n",
    "            new_category = input(\"Enter the new category:\")\n",
    "            new_price = float(input(\"Enter the new price:\"))\n",
    "\n",
    "            if new_name:\n",
    "                p[\"name\"] = new_name\n",
    "            if new_category:\n",
    "                p[\"category\"] = new_category\n",
    "            if new_price:\n",
    "                p[\"price\"] = new_price"
   ]
  },
  {
   "cell_type": "code",
   "execution_count": 46,
   "id": "cb6b1dd6-254a-4701-b5fa-6af7ba521efe",
   "metadata": {},
   "outputs": [],
   "source": [
    "def admin_func():\n",
    "    admin = input(\"Please enter admin username: \")\n",
    "    admin_password = input(\"Please enter admin password: \")\n",
    "    \n",
    "    if admin in admin_db and admin_db[admin] == admin_password:\n",
    "         print(\"\\nAdmin tasks:\")\n",
    "         print(\"A. Add Products\")\n",
    "         print(\"U. Update Products\")\n",
    "        \n",
    "         admin_selection = input(\"Would you like to A. Add Products or U. Update Products (A, U):\")\n",
    "        \n",
    "         if admin_selection == \"A\":\n",
    "            add_product()\n",
    "         elif admin_selection == \"U\":\n",
    "            update_product()\n",
    "    else:\n",
    "        print(\"Access denied.\")"
   ]
  },
  {
   "cell_type": "code",
   "execution_count": 48,
   "id": "358fb985-6395-4442-8e32-829c6a2636cd",
   "metadata": {},
   "outputs": [
    {
     "name": "stdin",
     "output_type": "stream",
     "text": [
      "Please enter admin username:  a\n",
      "Please enter admin password:  a\n"
     ]
    },
    {
     "name": "stdout",
     "output_type": "stream",
     "text": [
      "Access denied.\n"
     ]
    }
   ],
   "source": [
    "admin_func()"
   ]
  },
  {
   "cell_type": "code",
   "execution_count": 30,
   "id": "9a1e3fa4-3212-4dd5-be2d-0d30d9074eaa",
   "metadata": {},
   "outputs": [],
   "source": [
    "def user_or_admin():\n",
    "    login = input(\"Log in a user or admin: \")\n",
    "    if login == \"user\":\n",
    "        return user_login()\n",
    "    elif login == \"admin\":\n",
    "        return admin_login()\n",
    "        \n",
    "    else:\n",
    "        print(\"Invalid input.\")"
   ]
  },
  {
   "cell_type": "code",
   "execution_count": 90,
   "id": "61232da9-25c9-4cf2-9d01-7e590de3a8a6",
   "metadata": {},
   "outputs": [],
   "source": [
    "def add_to_catalog(product_id, name, category, price):\n",
    "    login = input(\"Log in a user or admin: \")\n",
    "    if login == \"user\":\n",
    "        print(\"You are not an admin. You are unable to add items into the catalog.\")\n",
    "    elif login == \"admin\":\n",
    "        admin = input(\"Please enter admin username: \")\n",
    "        admin_password = input(\"Please enter admin password: \")\n",
    "        \n",
    "        if admin in admin_db and admin_db[admin] == admin_password:\n",
    "            catalog.append({\n",
    "                \"product_id\": product_id,\n",
    "                \"name\": name,\n",
    "                \"category\": category,\n",
    "                \"price\": price\n",
    "                })\n",
    "            print(\"Products have been added into the catalog.\")\n",
    "        else:\n",
    "            print(\"No access.\")\n",
    "    else:\n",
    "        print(\"Invalid input. You are unable to add items into the catalog.\")"
   ]
  },
  {
   "cell_type": "code",
   "execution_count": 91,
   "id": "7e0c9ee9-8875-4e4b-a29e-d3bbeca9af03",
   "metadata": {},
   "outputs": [
    {
     "name": "stdin",
     "output_type": "stream",
     "text": [
      "Log in a user or admin:  admin\n",
      "Please enter admin username:  admin1\n",
      "Please enter admin password:  admin1password\n"
     ]
    },
    {
     "name": "stdout",
     "output_type": "stream",
     "text": [
      "Products have been added into the catalog.\n"
     ]
    }
   ],
   "source": [
    "add_to_catalog(6, \"Black Sweater\", \"Top\", 50)"
   ]
  },
  {
   "cell_type": "code",
   "execution_count": null,
   "id": "90836e6c-547b-42a6-81cf-b8f1bd7fe00d",
   "metadata": {},
   "outputs": [],
   "source": []
  }
 ],
 "metadata": {
  "kernelspec": {
   "display_name": "Python [conda env:base] *",
   "language": "python",
   "name": "conda-base-py"
  },
  "language_info": {
   "codemirror_mode": {
    "name": "ipython",
    "version": 3
   },
   "file_extension": ".py",
   "mimetype": "text/x-python",
   "name": "python",
   "nbconvert_exporter": "python",
   "pygments_lexer": "ipython3",
   "version": "3.12.7"
  }
 },
 "nbformat": 4,
 "nbformat_minor": 5
}
